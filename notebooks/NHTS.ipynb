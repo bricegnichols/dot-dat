{
 "cells": [
  {
   "cell_type": "markdown",
   "metadata": {},
   "source": [
    "# National Household Travel Survey\n",
    "http://nhts.ornl.gov/download.shtml#2009"
   ]
  },
  {
   "cell_type": "code",
   "execution_count": 27,
   "metadata": {
    "collapsed": true
   },
   "outputs": [],
   "source": [
    "import pandas as pd\n",
    "import requests, zipfile, StringIO\n",
    "from BeautifulSoup import BeautifulSoup"
   ]
  },
  {
   "cell_type": "code",
   "execution_count": 4,
   "metadata": {
    "collapsed": true
   },
   "outputs": [],
   "source": [
    "# Large file, 50 MB, takes while to load\n",
    "r = requests.get(r'http://nhts.ornl.gov/2009/download/Ascii.zip')"
   ]
  },
  {
   "cell_type": "code",
   "execution_count": 6,
   "metadata": {
    "collapsed": false
   },
   "outputs": [],
   "source": [
    "z = zipfile.ZipFile(StringIO.StringIO(r.content))"
   ]
  },
  {
   "cell_type": "code",
   "execution_count": 14,
   "metadata": {
    "collapsed": false
   },
   "outputs": [
    {
     "data": {
      "text/plain": [
       "['Ascii/DAYV2PUB.CSV',\n",
       " 'Ascii/HHV2PUB.CSV',\n",
       " 'Ascii/PERV2PUB.CSV',\n",
       " 'Ascii/VEHV2PUB.CSV',\n",
       " 'Ascii/',\n",
       " 'Citation.docx']"
      ]
     },
     "execution_count": 14,
     "metadata": {},
     "output_type": "execute_result"
    }
   ],
   "source": [
    "# List of files\n",
    "[i.filename for i in z.filelist]"
   ]
  },
  {
   "cell_type": "code",
   "execution_count": 17,
   "metadata": {
    "collapsed": true
   },
   "outputs": [],
   "source": [
    "# Travel day trip records\n",
    "day = pd.read_csv(z.open('Ascii/DAYV2PUB.CSV'))\n",
    "\n",
    "# Household records\n",
    "hh = pd.read_csv(z.open('Ascii/DAYV2PUB.CSV'))\n",
    "\n",
    "# Person records\n",
    "person = pd.read_csv(z.open('Ascii/PERV2PUB.CSV'))\n",
    "\n",
    "# Vehicle records\n",
    "veh = pd.read_csv(z.open('Ascii/VEHV2PUB.CSV'))"
   ]
  },
  {
   "cell_type": "code",
   "execution_count": 21,
   "metadata": {
    "collapsed": false
   },
   "outputs": [
    {
     "data": {
      "text/html": [
       "<div style=\"max-height:1000px;max-width:1500px;overflow:auto;\">\n",
       "<table border=\"1\" class=\"dataframe\">\n",
       "  <thead>\n",
       "    <tr style=\"text-align: right;\">\n",
       "      <th></th>\n",
       "      <th>HOUSEID</th>\n",
       "      <th>PERSONID</th>\n",
       "      <th>FRSTHM</th>\n",
       "      <th>OUTOFTWN</th>\n",
       "      <th>ONTD_P1</th>\n",
       "      <th>ONTD_P2</th>\n",
       "      <th>ONTD_P3</th>\n",
       "      <th>ONTD_P4</th>\n",
       "      <th>ONTD_P5</th>\n",
       "      <th>ONTD_P6</th>\n",
       "      <th>...</th>\n",
       "      <th>HOMETYPE</th>\n",
       "      <th>HTRESDN</th>\n",
       "      <th>HTHTNRNT</th>\n",
       "      <th>HTPPOPDN</th>\n",
       "      <th>HTEEMPDN</th>\n",
       "      <th>HBRESDN</th>\n",
       "      <th>HBHTNRNT</th>\n",
       "      <th>HBPPOPDN</th>\n",
       "      <th>GASPRICE</th>\n",
       "      <th>VEHTYPE</th>\n",
       "    </tr>\n",
       "  </thead>\n",
       "  <tbody>\n",
       "    <tr>\n",
       "      <th>count</th>\n",
       "      <td>  1167321.000000</td>\n",
       "      <td> 1167321.000000</td>\n",
       "      <td> 1167321.000000</td>\n",
       "      <td> 1167321.000000</td>\n",
       "      <td> 1167321.000000</td>\n",
       "      <td> 1167321.000000</td>\n",
       "      <td> 1167321.000000</td>\n",
       "      <td> 1167321.000000</td>\n",
       "      <td> 1167321.000000</td>\n",
       "      <td> 1167321.000000</td>\n",
       "      <td>...</td>\n",
       "      <td> 1167321.000000</td>\n",
       "      <td> 1167321.000000</td>\n",
       "      <td> 1167321.000000</td>\n",
       "      <td> 1167321.000000</td>\n",
       "      <td> 1167321.000000</td>\n",
       "      <td> 1167321.000000</td>\n",
       "      <td> 1167321.000000</td>\n",
       "      <td> 1167321.000000</td>\n",
       "      <td> 1167321.000000</td>\n",
       "      <td> 1167321.000000</td>\n",
       "    </tr>\n",
       "    <tr>\n",
       "      <th>mean</th>\n",
       "      <td> 44957340.763613</td>\n",
       "      <td>       1.768805</td>\n",
       "      <td>       1.049860</td>\n",
       "      <td>      -0.865782</td>\n",
       "      <td>       1.298540</td>\n",
       "      <td>       1.040424</td>\n",
       "      <td>       0.161663</td>\n",
       "      <td>      -0.232731</td>\n",
       "      <td>      -0.675770</td>\n",
       "      <td>      -0.878745</td>\n",
       "      <td>...</td>\n",
       "      <td>       1.366153</td>\n",
       "      <td>    1367.507465</td>\n",
       "      <td>      26.200700</td>\n",
       "      <td>    3146.398790</td>\n",
       "      <td>     956.499169</td>\n",
       "      <td>    1546.367008</td>\n",
       "      <td>      23.751729</td>\n",
       "      <td>    3528.943823</td>\n",
       "      <td>     286.344720</td>\n",
       "      <td>       1.505810</td>\n",
       "    </tr>\n",
       "    <tr>\n",
       "      <th>std</th>\n",
       "      <td> 14430696.518523</td>\n",
       "      <td>       1.018333</td>\n",
       "      <td>       0.246076</td>\n",
       "      <td>       0.596915</td>\n",
       "      <td>       0.515847</td>\n",
       "      <td>       1.007878</td>\n",
       "      <td>       1.319387</td>\n",
       "      <td>       1.205588</td>\n",
       "      <td>       0.874076</td>\n",
       "      <td>       0.561050</td>\n",
       "      <td>...</td>\n",
       "      <td>       2.363007</td>\n",
       "      <td>    2704.667899</td>\n",
       "      <td>      19.242073</td>\n",
       "      <td>    4550.306385</td>\n",
       "      <td>    1311.418770</td>\n",
       "      <td>    2898.887914</td>\n",
       "      <td>      21.261102</td>\n",
       "      <td>    4900.893051</td>\n",
       "      <td>      94.359818</td>\n",
       "      <td>       2.042999</td>\n",
       "    </tr>\n",
       "    <tr>\n",
       "      <th>min</th>\n",
       "      <td> 20000017.000000</td>\n",
       "      <td>       1.000000</td>\n",
       "      <td>      -8.000000</td>\n",
       "      <td>      -9.000000</td>\n",
       "      <td>      -1.000000</td>\n",
       "      <td>      -1.000000</td>\n",
       "      <td>      -1.000000</td>\n",
       "      <td>      -1.000000</td>\n",
       "      <td>      -1.000000</td>\n",
       "      <td>      -1.000000</td>\n",
       "      <td>...</td>\n",
       "      <td>      -9.000000</td>\n",
       "      <td>      -9.000000</td>\n",
       "      <td>      -9.000000</td>\n",
       "      <td>      -9.000000</td>\n",
       "      <td>      -9.000000</td>\n",
       "      <td>      -9.000000</td>\n",
       "      <td>      -9.000000</td>\n",
       "      <td>      -9.000000</td>\n",
       "      <td>     149.500000</td>\n",
       "      <td>      -9.000000</td>\n",
       "    </tr>\n",
       "    <tr>\n",
       "      <th>25%</th>\n",
       "      <td> 32429255.000000</td>\n",
       "      <td>       1.000000</td>\n",
       "      <td>       1.000000</td>\n",
       "      <td>      -1.000000</td>\n",
       "      <td>       1.000000</td>\n",
       "      <td>       1.000000</td>\n",
       "      <td>      -1.000000</td>\n",
       "      <td>      -1.000000</td>\n",
       "      <td>      -1.000000</td>\n",
       "      <td>      -1.000000</td>\n",
       "      <td>...</td>\n",
       "      <td>       1.000000</td>\n",
       "      <td>     300.000000</td>\n",
       "      <td>       5.000000</td>\n",
       "      <td>     300.000000</td>\n",
       "      <td>      75.000000</td>\n",
       "      <td>     300.000000</td>\n",
       "      <td>       5.000000</td>\n",
       "      <td>     300.000000</td>\n",
       "      <td>     191.200000</td>\n",
       "      <td>       1.000000</td>\n",
       "    </tr>\n",
       "    <tr>\n",
       "      <th>50%</th>\n",
       "      <td> 44947798.000000</td>\n",
       "      <td>       1.000000</td>\n",
       "      <td>       1.000000</td>\n",
       "      <td>      -1.000000</td>\n",
       "      <td>       1.000000</td>\n",
       "      <td>       1.000000</td>\n",
       "      <td>      -1.000000</td>\n",
       "      <td>      -1.000000</td>\n",
       "      <td>      -1.000000</td>\n",
       "      <td>      -1.000000</td>\n",
       "      <td>...</td>\n",
       "      <td>       1.000000</td>\n",
       "      <td>     750.000000</td>\n",
       "      <td>      20.000000</td>\n",
       "      <td>    1500.000000</td>\n",
       "      <td>     350.000000</td>\n",
       "      <td>     750.000000</td>\n",
       "      <td>      20.000000</td>\n",
       "      <td>    1500.000000</td>\n",
       "      <td>     293.800000</td>\n",
       "      <td>       1.000000</td>\n",
       "    </tr>\n",
       "    <tr>\n",
       "      <th>75%</th>\n",
       "      <td> 57465818.000000</td>\n",
       "      <td>       2.000000</td>\n",
       "      <td>       1.000000</td>\n",
       "      <td>      -1.000000</td>\n",
       "      <td>       2.000000</td>\n",
       "      <td>       2.000000</td>\n",
       "      <td>       2.000000</td>\n",
       "      <td>       1.000000</td>\n",
       "      <td>      -1.000000</td>\n",
       "      <td>      -1.000000</td>\n",
       "      <td>...</td>\n",
       "      <td>       1.000000</td>\n",
       "      <td>    1500.000000</td>\n",
       "      <td>      40.000000</td>\n",
       "      <td>    3000.000000</td>\n",
       "      <td>    1500.000000</td>\n",
       "      <td>    1500.000000</td>\n",
       "      <td>      30.000000</td>\n",
       "      <td>    7000.000000</td>\n",
       "      <td>     376.700000</td>\n",
       "      <td>       3.000000</td>\n",
       "    </tr>\n",
       "    <tr>\n",
       "      <th>max</th>\n",
       "      <td> 69999811.000000</td>\n",
       "      <td>      13.000000</td>\n",
       "      <td>       2.000000</td>\n",
       "      <td>       2.000000</td>\n",
       "      <td>       2.000000</td>\n",
       "      <td>       2.000000</td>\n",
       "      <td>       2.000000</td>\n",
       "      <td>       2.000000</td>\n",
       "      <td>       2.000000</td>\n",
       "      <td>       2.000000</td>\n",
       "      <td>...</td>\n",
       "      <td>      97.000000</td>\n",
       "      <td>   30000.000000</td>\n",
       "      <td>      95.000000</td>\n",
       "      <td>   30000.000000</td>\n",
       "      <td>    5000.000000</td>\n",
       "      <td>   30000.000000</td>\n",
       "      <td>      95.000000</td>\n",
       "      <td>   30000.000000</td>\n",
       "      <td>     446.000000</td>\n",
       "      <td>      97.000000</td>\n",
       "    </tr>\n",
       "  </tbody>\n",
       "</table>\n",
       "<p>8 rows × 107 columns</p>\n",
       "</div>"
      ],
      "text/plain": [
       "               HOUSEID        PERSONID          FRSTHM        OUTOFTWN  \\\n",
       "count   1167321.000000  1167321.000000  1167321.000000  1167321.000000   \n",
       "mean   44957340.763613        1.768805        1.049860       -0.865782   \n",
       "std    14430696.518523        1.018333        0.246076        0.596915   \n",
       "min    20000017.000000        1.000000       -8.000000       -9.000000   \n",
       "25%    32429255.000000        1.000000        1.000000       -1.000000   \n",
       "50%    44947798.000000        1.000000        1.000000       -1.000000   \n",
       "75%    57465818.000000        2.000000        1.000000       -1.000000   \n",
       "max    69999811.000000       13.000000        2.000000        2.000000   \n",
       "\n",
       "              ONTD_P1         ONTD_P2         ONTD_P3         ONTD_P4  \\\n",
       "count  1167321.000000  1167321.000000  1167321.000000  1167321.000000   \n",
       "mean         1.298540        1.040424        0.161663       -0.232731   \n",
       "std          0.515847        1.007878        1.319387        1.205588   \n",
       "min         -1.000000       -1.000000       -1.000000       -1.000000   \n",
       "25%          1.000000        1.000000       -1.000000       -1.000000   \n",
       "50%          1.000000        1.000000       -1.000000       -1.000000   \n",
       "75%          2.000000        2.000000        2.000000        1.000000   \n",
       "max          2.000000        2.000000        2.000000        2.000000   \n",
       "\n",
       "              ONTD_P5         ONTD_P6       ...              HOMETYPE  \\\n",
       "count  1167321.000000  1167321.000000       ...        1167321.000000   \n",
       "mean        -0.675770       -0.878745       ...              1.366153   \n",
       "std          0.874076        0.561050       ...              2.363007   \n",
       "min         -1.000000       -1.000000       ...             -9.000000   \n",
       "25%         -1.000000       -1.000000       ...              1.000000   \n",
       "50%         -1.000000       -1.000000       ...              1.000000   \n",
       "75%         -1.000000       -1.000000       ...              1.000000   \n",
       "max          2.000000        2.000000       ...             97.000000   \n",
       "\n",
       "              HTRESDN        HTHTNRNT        HTPPOPDN        HTEEMPDN  \\\n",
       "count  1167321.000000  1167321.000000  1167321.000000  1167321.000000   \n",
       "mean      1367.507465       26.200700     3146.398790      956.499169   \n",
       "std       2704.667899       19.242073     4550.306385     1311.418770   \n",
       "min         -9.000000       -9.000000       -9.000000       -9.000000   \n",
       "25%        300.000000        5.000000      300.000000       75.000000   \n",
       "50%        750.000000       20.000000     1500.000000      350.000000   \n",
       "75%       1500.000000       40.000000     3000.000000     1500.000000   \n",
       "max      30000.000000       95.000000    30000.000000     5000.000000   \n",
       "\n",
       "              HBRESDN        HBHTNRNT        HBPPOPDN        GASPRICE  \\\n",
       "count  1167321.000000  1167321.000000  1167321.000000  1167321.000000   \n",
       "mean      1546.367008       23.751729     3528.943823      286.344720   \n",
       "std       2898.887914       21.261102     4900.893051       94.359818   \n",
       "min         -9.000000       -9.000000       -9.000000      149.500000   \n",
       "25%        300.000000        5.000000      300.000000      191.200000   \n",
       "50%        750.000000       20.000000     1500.000000      293.800000   \n",
       "75%       1500.000000       30.000000     7000.000000      376.700000   \n",
       "max      30000.000000       95.000000    30000.000000      446.000000   \n",
       "\n",
       "              VEHTYPE  \n",
       "count  1167321.000000  \n",
       "mean         1.505810  \n",
       "std          2.042999  \n",
       "min         -9.000000  \n",
       "25%          1.000000  \n",
       "50%          1.000000  \n",
       "75%          3.000000  \n",
       "max         97.000000  \n",
       "\n",
       "[8 rows x 107 columns]"
      ]
     },
     "execution_count": 21,
     "metadata": {},
     "output_type": "execute_result"
    }
   ],
   "source": [
    "day.describe()"
   ]
  },
  {
   "cell_type": "code",
   "execution_count": 22,
   "metadata": {
    "collapsed": true
   },
   "outputs": [],
   "source": [
    "# data dictionary\n",
    "r = requests.get(r'http://nhts.ornl.gov/tables09/CodebookBrowser.aspx')"
   ]
  },
  {
   "cell_type": "code",
   "execution_count": 61,
   "metadata": {
    "collapsed": false
   },
   "outputs": [],
   "source": [
    "soup = BeautifulSoup(r.content)\n",
    "main_table = soup.findAll('table')[1]\n",
    "rows = main_table.findChildren(['th', 'tr'])"
   ]
  },
  {
   "cell_type": "code",
   "execution_count": 95,
   "metadata": {
    "collapsed": false
   },
   "outputs": [],
   "source": [
    "# Extract the data dictionary information to describe the variable names\n",
    "\n",
    "# The table contents start at 11 - find a better way of doing this later...\n",
    "i = 11\n",
    "dict_lookup = {}\n",
    "for row in xrange(11,216+1):\n",
    "    moniker = rows[row].findAll('td')[1].text\n",
    "    dsecription = rows[row].findAll('td')[2].text\n",
    "    \n",
    "    dict_lookup[moniker] = dsecription"
   ]
  },
  {
   "cell_type": "code",
   "execution_count": 97,
   "metadata": {
    "collapsed": false
   },
   "outputs": [],
   "source": [
    "# Next, lookup corresponding code values"
   ]
  },
  {
   "cell_type": "code",
   "execution_count": null,
   "metadata": {
    "collapsed": true
   },
   "outputs": [],
   "source": []
  }
 ],
 "metadata": {
  "kernelspec": {
   "display_name": "Python 2",
   "language": "python",
   "name": "python2"
  },
  "language_info": {
   "codemirror_mode": {
    "name": "ipython",
    "version": 2
   },
   "file_extension": ".py",
   "mimetype": "text/x-python",
   "name": "python",
   "nbconvert_exporter": "python",
   "pygments_lexer": "ipython2",
   "version": "2.7.9"
  }
 },
 "nbformat": 4,
 "nbformat_minor": 0
}
