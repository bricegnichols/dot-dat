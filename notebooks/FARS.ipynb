{
 "cells": [
  {
   "cell_type": "markdown",
   "metadata": {},
   "source": [
    "# Fatality Analysis Reporting System\n",
    "http://www.nhtsa.gov/FARS"
   ]
  },
  {
   "cell_type": "code",
   "execution_count": 15,
   "metadata": {
    "collapsed": true
   },
   "outputs": [],
   "source": [
    "import pandas as pd\n",
    "import urllib2, zipfile, StringIO\n",
    "from BeautifulSoup import BeautifulSoup"
   ]
  },
  {
   "cell_type": "code",
   "execution_count": 20,
   "metadata": {
    "collapsed": false
   },
   "outputs": [],
   "source": [
    "# Large file, 50 MB, takes while to load\n",
    "req = urllib2.Request(r'ftp://ftp.nhtsa.dot.gov/fars/2015/National/FARS2015NationalDBF.zip')\n",
    "response = urllib2.urlopen(req)\n",
    "content = response.read()"
   ]
  },
  {
   "cell_type": "code",
   "execution_count": 21,
   "metadata": {
    "collapsed": false
   },
   "outputs": [],
   "source": [
    "z = zipfile.ZipFile(StringIO.StringIO(the_page))"
   ]
  },
  {
   "cell_type": "code",
   "execution_count": 19,
   "metadata": {
    "collapsed": false
   },
   "outputs": [
    {
     "data": {
      "text/plain": [
       "['ACC_AUX.dbf',\n",
       " 'accident.dbf',\n",
       " 'cevent.dbf',\n",
       " 'Damage.dbf',\n",
       " 'Distract.dbf',\n",
       " 'DrImpair.dbf',\n",
       " 'Factor.dbf',\n",
       " 'Maneuver.dbf',\n",
       " 'MIACC.dbf',\n",
       " 'MIDRVACC.dbf',\n",
       " 'MIPER.dbf',\n",
       " 'nmcrash.dbf',\n",
       " 'NMImpair.dbf',\n",
       " 'NMPrior.dbf',\n",
       " 'parkwork.dbf',\n",
       " 'PBType.dbf',\n",
       " 'PER_AUX.dbf',\n",
       " 'person.dbf',\n",
       " 'SafetyEq.dbf',\n",
       " 'VEH_AUX.dbf',\n",
       " 'vehicle.dbf',\n",
       " 'VEvent.dbf',\n",
       " 'VINDecode.dbf',\n",
       " 'Violatn.dbf',\n",
       " 'Vision.dbf',\n",
       " 'VSOE.dbf']"
      ]
     },
     "execution_count": 19,
     "metadata": {},
     "output_type": "execute_result"
    }
   ],
   "source": [
    "# List of files\n",
    "[i.filename for i in z.filelist]"
   ]
  },
  {
   "cell_type": "code",
   "execution_count": null,
   "metadata": {
    "collapsed": false
   },
   "outputs": [],
   "source": [
    "df = pd.read_csv(z.open('ACC_AUX.dbf'),sep='\\t')"
   ]
  },
  {
   "cell_type": "code",
   "execution_count": null,
   "metadata": {
    "collapsed": false
   },
   "outputs": [],
   "source": [
    "df"
   ]
  },
  {
   "cell_type": "code",
   "execution_count": 22,
   "metadata": {
    "collapsed": true
   },
   "outputs": [],
   "source": [
    "# data dictionary\n",
    "r = requests.get(r'http://nhts.ornl.gov/tables09/CodebookBrowser.aspx')"
   ]
  },
  {
   "cell_type": "code",
   "execution_count": 61,
   "metadata": {
    "collapsed": false
   },
   "outputs": [],
   "source": [
    "soup = BeautifulSoup(r.content)\n",
    "main_table = soup.findAll('table')[1]\n",
    "rows = main_table.findChildren(['th', 'tr'])"
   ]
  },
  {
   "cell_type": "code",
   "execution_count": 95,
   "metadata": {
    "collapsed": false
   },
   "outputs": [],
   "source": [
    "# Extract the data dictionary information to describe the variable names\n",
    "\n",
    "# The table contents start at 11 - find a better way of doing this later...\n",
    "i = 11\n",
    "dict_lookup = {}\n",
    "for row in xrange(11,216+1):\n",
    "    moniker = rows[row].findAll('td')[1].text\n",
    "    dsecription = rows[row].findAll('td')[2].text\n",
    "    \n",
    "    dict_lookup[moniker] = dsecription"
   ]
  },
  {
   "cell_type": "code",
   "execution_count": 97,
   "metadata": {
    "collapsed": false
   },
   "outputs": [],
   "source": [
    "# Next, lookup corresponding code values"
   ]
  },
  {
   "cell_type": "code",
   "execution_count": null,
   "metadata": {
    "collapsed": true
   },
   "outputs": [],
   "source": []
  }
 ],
 "metadata": {
  "kernelspec": {
   "display_name": "Python 2",
   "language": "python",
   "name": "python2"
  },
  "language_info": {
   "codemirror_mode": {
    "name": "ipython",
    "version": 2
   },
   "file_extension": ".py",
   "mimetype": "text/x-python",
   "name": "python",
   "nbconvert_exporter": "python",
   "pygments_lexer": "ipython2",
   "version": "2.7.9"
  }
 },
 "nbformat": 4,
 "nbformat_minor": 0
}
